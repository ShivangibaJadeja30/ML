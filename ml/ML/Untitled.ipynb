{
 "cells": [
  {
   "cell_type": "code",
   "execution_count": 4,
   "id": "abc3c95b-090e-46c4-8e3e-1d4a25ad77c1",
   "metadata": {},
   "outputs": [
    {
     "ename": "AttributeError",
     "evalue": "module 'cv2' has no attribute 'destroyALLWindows'",
     "output_type": "error",
     "traceback": [
      "\u001b[1;31m---------------------------------------------------------------------------\u001b[0m",
      "\u001b[1;31mAttributeError\u001b[0m                            Traceback (most recent call last)",
      "Cell \u001b[1;32mIn[4], line 21\u001b[0m\n\u001b[0;32m     19\u001b[0m cv2\u001b[38;5;241m.\u001b[39mimshow(\u001b[38;5;124m'\u001b[39m\u001b[38;5;124mDialtion\u001b[39m\u001b[38;5;124m'\u001b[39m, dilation)\n\u001b[0;32m     20\u001b[0m cv2\u001b[38;5;241m.\u001b[39mwaitKey(\u001b[38;5;241m0\u001b[39m)\n\u001b[1;32m---> 21\u001b[0m \u001b[43mcv2\u001b[49m\u001b[38;5;241;43m.\u001b[39;49m\u001b[43mdestroyALLWindows\u001b[49m()\n",
      "\u001b[1;31mAttributeError\u001b[0m: module 'cv2' has no attribute 'destroyALLWindows'"
     ]
    }
   ],
   "source": [
    "import cv2\n",
    "import numpy as np\n",
    "import matplotlib.pyplot as plt\n",
    "#Load image\n",
    "img1=cv2.imread('13.jpg')\n",
    "# img= cv2.cvtColor(img, cv2.COLOR_BGR2GRAY)\n",
    "# i1= cv2.bitwise_not(img1)\n",
    "k1=np.ones((3,3), np.uint8)\n",
    "#Erosion\n",
    "erosion=cv2.erode(img1,k1,iterations=1)\n",
    "#Dilation\n",
    "dilation=cv2.dilate(img1,k1, iterations=1)\n",
    "# plt.subplot(1,4,1), plt.imshow(img1,cmap='gray'), plt.title('inv')\n",
    "# plt.subplot(1,4,2), plt.imshow(img1,cmap='gray'), plt.title('Source')\n",
    "# plt.subplot(1,4,3), plt.imshow(erosion, cmap='gray'), plt.title('Erosion|')\n",
    "# plt.subplot(1,4,4), plt.imshow(dilation, cmap='gray'), plt.title('Dialtion')\n",
    "cv2.imshow('Source', img1)\n",
    "cv2.imshow('Erosion', erosion)\n",
    "cv2.imshow('Dialtion', dilation)\n",
    "cv2.waitKey(0)\n",
    "cv2.destroyALLWindows()"
   ]
  },
  {
   "cell_type": "code",
   "execution_count": null,
   "id": "3410ea61-83a4-4a01-b64a-225e686adbf3",
   "metadata": {},
   "outputs": [],
   "source": []
  }
 ],
 "metadata": {
  "kernelspec": {
   "display_name": "Python 3 (ipykernel)",
   "language": "python",
   "name": "python3"
  },
  "language_info": {
   "codemirror_mode": {
    "name": "ipython",
    "version": 3
   },
   "file_extension": ".py",
   "mimetype": "text/x-python",
   "name": "python",
   "nbconvert_exporter": "python",
   "pygments_lexer": "ipython3",
   "version": "3.10.2"
  }
 },
 "nbformat": 4,
 "nbformat_minor": 5
}
