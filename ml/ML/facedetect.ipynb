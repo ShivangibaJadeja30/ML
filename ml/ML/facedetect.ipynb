{
 "cells": [
  {
   "cell_type": "code",
   "execution_count": null,
   "id": "c8f264fc-3b99-4398-9046-0076b9ce1f0a",
   "metadata": {},
   "outputs": [],
   "source": [
    "import cv2\n",
    "face_c=cv2.CascadeClassifier('hrf.txt')\n",
    "img=cv2.imread(\"\")"
   ]
  }
 ],
 "metadata": {
  "kernelspec": {
   "display_name": "Python 3 (ipykernel)",
   "language": "python",
   "name": "python3"
  },
  "language_info": {
   "codemirror_mode": {
    "name": "ipython",
    "version": 3
   },
   "file_extension": ".py",
   "mimetype": "text/x-python",
   "name": "python",
   "nbconvert_exporter": "python",
   "pygments_lexer": "ipython3",
   "version": "3.10.2"
  }
 },
 "nbformat": 4,
 "nbformat_minor": 5
}
