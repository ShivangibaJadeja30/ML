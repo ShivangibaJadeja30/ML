{
 "cells": [
  {
   "cell_type": "code",
   "execution_count": null,
   "id": "366593a8-cc97-4841-95c2-baa01821185a",
   "metadata": {},
   "outputs": [],
   "source": [
    "import cv2\n",
    "import numpy as np\n",
    "import matplotlib.pyplot as plt\n",
    "#Load image\n",
    "img1=cv2.imread('11.jpg')\n",
    "# img= cv2.cvtColor(img, cv2.COLOR_BGR2GRAY)\n",
    "# i1= cv2.bitwise_not(img1)\n",
    "k1=np.ones((3,3), np.uint8)\n",
    "#Erosion\n",
    "erosion=cv2.erode(img1,k1,iterations=1)\n",
    "#Dilation\n",
    "dilation=cv2.dilate(img1,k1, iterations=1)\n",
    "# plt.subplot(1,4,1), plt.imshow(img1,cmap='gray'), plt.title('inv')\n",
    "# plt.subplot(1,4,2), plt.imshow(img1,cmap='gray'), plt.title('Source')\n",
    "# plt.subplot(1,4,3), plt.imshow(erosion, cmap='gray'), plt.title('Erosion|')\n",
    "# plt.subplot(1,4,4), plt.imshow(dilation, cmap='gray'), plt.title('Dialtion')\n",
    "cv2.imshow('Source', img1)\n",
    "cv2.imshow('Erosion', erosion)\n",
    "cv2.imshow('Dialtion', dilation)\n",
    "cv2.waitKey(0)\n",
    "cv2.destroyALLWindows()"
   ]
  }
 ],
 "metadata": {
  "kernelspec": {
   "display_name": "Python 3 (ipykernel)",
   "language": "python",
   "name": "python3"
  },
  "language_info": {
   "codemirror_mode": {
    "name": "ipython",
    "version": 3
   },
   "file_extension": ".py",
   "mimetype": "text/x-python",
   "name": "python",
   "nbconvert_exporter": "python",
   "pygments_lexer": "ipython3",
   "version": "3.10.2"
  }
 },
 "nbformat": 4,
 "nbformat_minor": 5
}
