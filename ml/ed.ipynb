{
 "cells": [
  {
   "cell_type": "code",
   "execution_count": null,
   "id": "d962f782-85b8-4fbf-9a34-20f7be3c1fff",
   "metadata": {},
   "outputs": [],
   "source": [
    "import cv2\n",
    "import numpy as np\n",
    "import matplotlib.pyplot as plt\n",
    "#Load image\n",
    "i=cv2.imread('3.png')\n",
    "# img= cv2.cvtColor(img, cv2.COLOR_BGR2GRAY)\n",
    "img= cv2.bitwise_not(i) \n",
    "k1=np.ones((3,3), np.uint8)\n",
    "#Erosion\n",
    "erosion=cv2.erode(i,k1,iterations=1)\n",
    "#Dilation\n",
    "dilation=cv2.dilate(i,k1, iterations=1)\n",
    "plt.subplot(1,3,1), plt.imshow(i,cmap='gray'), plt.title('Source')\n",
    "plt.subplot(1,3,2), plt.imshow(erosion, cmap='gray'), plt.title('Erosion')\n",
    "plt.subplot(1,3,3), plt.imshow(dilation, cmap='gray'), plt.title('Dialtion')\n",
    "# cv2.imshow('Source', img)\n",
    "# cv2.imshow('Erosion', erosion)\n",
    "# cv2.imshow('Dialtion', dilation)\n",
    "# cv2.waitKey(0)\n",
    "# cv2.destroyALLWindows()"
   ]
  },
  {
   "cell_type": "code",
   "execution_count": null,
   "id": "cf24fba8-46a2-47aa-a69f-86dfbd532519",
   "metadata": {},
   "outputs": [],
   "source": [
    "import cv2\n",
    "import numpy as np\n",
    "import matplotlib.pyplot as plt\n",
    "#Load image\n",
    "img1=cv2.imread('2.png')\n",
    "# img= cv2.cvtColor(img, cv2.COLOR_BGR2GRAY)\n",
    "i1= cv2.bitwise_not(img1)\n",
    "k1=np.ones((3,3), np.uint8)\n",
    "#Erosion\n",
    "erosion=cv2.erode(i1,k1,iterations=1)\n",
    "#Dilation\n",
    "dilation=cv2.dilate(i1,k1, iterations=1)\n",
    "plt.subplot(1,4,1), plt.imshow(i1,cmap='gray'), plt.title('inv')\n",
    "plt.subplot(1,4,2), plt.imshow(img1,cmap='gray'), plt.title('Source')\n",
    "plt.subplot(1,4,3), plt.imshow(erosion, cmap='gray'), plt.title('Erosion')\n",
    "plt.subplot(1,4,4), plt.imshow(dilation, cmap='gray'), plt.title('Dialtion')\n",
    "# cv2.imshow('Source', img)\n",
    "# cv2.imshow('Erosion', erosion)\n",
    "# cv2.imshow('Dialtion', dilation)\n",
    "# cv2.waitKey(0)\n",
    "# cv2.destroyALLWindows()"
   ]
  },
  {
   "cell_type": "code",
   "execution_count": null,
   "id": "57b2cc2a-f4a5-4371-bc3d-4ebd80638b17",
   "metadata": {},
   "outputs": [],
   "source": [
    "import cv2\n",
    "import numpy as np\n",
    "import matplotlib.pyplot as plt\n",
    "#Load image\n",
    "img1=cv2.imread('11.jpg')\n",
    "# img= cv2.cvtColor(img, cv2.COLOR_BGR2GRAY)\n",
    "i1= cv2.bitwise_not(img1)\n",
    "k1=np.ones((3,3), np.uint8)\n",
    "#Erosion\n",
    "erosion=cv2.erode(i1,k1,iterations=1)\n",
    "#Dilation\n",
    "dilation=cv2.dilate(i1,k1, iterations=1)\n",
    "plt.subplot(1,4,1), plt.imshow(i1,cmap='gray'), plt.title('inv')\n",
    "plt.subplot(1,4,2), plt.imshow(img1,cmap='gray'), plt.title('Source')\n",
    "plt.subplot(1,4,3), plt.imshow(erosion, cmap='gray'), plt.title('Erosion')\n",
    "plt.subplot(1,4,4), plt.imshow(dilation, cmap='gray'), plt.title('Dialtion')\n",
    "# cv2.imshow('Source', img)\n",
    "# cv2.imshow('Erosion', erosion)\n",
    "# cv2.imshow('Dialtion', dilation)\n",
    "# cv2.waitKey(0)\n",
    "# cv2.destroyALLWindows()"
   ]
  },
  {
   "cell_type": "code",
   "execution_count": null,
   "id": "477acae2-c6ac-43b2-96fc-7d22c66c40d7",
   "metadata": {},
   "outputs": [],
   "source": []
  }
 ],
 "metadata": {
  "kernelspec": {
   "display_name": "Python 3 (ipykernel)",
   "language": "python",
   "name": "python3"
  },
  "language_info": {
   "codemirror_mode": {
    "name": "ipython",
    "version": 3
   },
   "file_extension": ".py",
   "mimetype": "text/x-python",
   "name": "python",
   "nbconvert_exporter": "python",
   "pygments_lexer": "ipython3",
   "version": "3.10.2"
  }
 },
 "nbformat": 4,
 "nbformat_minor": 5
}
