{
 "cells": [
  {
   "cell_type": "code",
   "execution_count": 2,
   "id": "948e8172-649e-4773-8f7f-98276ab1753c",
   "metadata": {},
   "outputs": [
    {
     "name": "stderr",
     "output_type": "stream",
     "text": [
      "[nltk_data] Downloading package punkt_tab to\n",
      "[nltk_data]     C:\\Users\\atmiya\\AppData\\Roaming\\nltk_data...\n",
      "[nltk_data]   Package punkt_tab is already up-to-date!\n"
     ]
    },
    {
     "data": {
      "text/plain": [
       "True"
      ]
     },
     "execution_count": 2,
     "metadata": {},
     "output_type": "execute_result"
    }
   ],
   "source": [
    "import nltk\n",
    "nltk.download('punkt_tab')"
   ]
  },
  {
   "cell_type": "code",
   "execution_count": 3,
   "id": "6308af8c-bb5d-4468-9adb-62c8df3b9ffe",
   "metadata": {},
   "outputs": [
    {
     "name": "stdout",
     "output_type": "stream",
     "text": [
      "Tokenized sentences are :  ['I am shree.', 'Who are you?']\n"
     ]
    }
   ],
   "source": [
    "from nltk.tokenize import sent_tokenize\n",
    "text='I am shree. Who are you?'\n",
    "R=sent_tokenize(text)\n",
    "print(\"Tokenized sentences are : \",R)"
   ]
  },
  {
   "cell_type": "code",
   "execution_count": 6,
   "id": "8b396212-1258-4cee-b5c6-fe465234b0c9",
   "metadata": {},
   "outputs": [
    {
     "name": "stdout",
     "output_type": "stream",
     "text": [
      "Tokenized words are :  ['It', 'is', \"n't\", 'the', 'same', 'as', 'it', 'was', 'looking', 'before', '.']\n"
     ]
    }
   ],
   "source": [
    "from nltk.tokenize import word_tokenize\n",
    "text=\"It isn't the same as it was looking before.\"\n",
    "words=word_tokenize(text)\n",
    "print(\"Tokenized words are : \",words)"
   ]
  },
  {
   "cell_type": "code",
   "execution_count": 7,
   "id": "c5f2174d-d03e-4e78-b3ba-bd0dab00d5d2",
   "metadata": {},
   "outputs": [
    {
     "name": "stdout",
     "output_type": "stream",
     "text": [
      "Tokenized words are :  ['We', 'are', 'waiting', ',', 'won', \"'\", 't', 'you', 'joining', 'us', '?']\n"
     ]
    }
   ],
   "source": [
    "from nltk.tokenize import wordpunct_tokenize\n",
    "text=\"We are waiting,won't you joining us?\"\n",
    "word=wordpunct_tokenize(text)\n",
    "print(\"Tokenized words are : \",word)"
   ]
  },
  {
   "cell_type": "code",
   "execution_count": 22,
   "id": "14b65b23-bdbc-4d01-99b4-5a0c86a95c35",
   "metadata": {},
   "outputs": [
    {
     "name": "stdout",
     "output_type": "stream",
     "text": [
      "Porter Stemmer : \n",
      "put -> put\n",
      "Lemmatization -> lemmat\n",
      "Organized -> organ\n",
      "Biologically -> biolog\n",
      "economically -> econom\n",
      "cronology -> cronolog\n",
      "canopy -> canopi\n",
      "earthinessS -> earthinesss\n",
      "Snowball Stemmer : \n",
      "put -> put\n",
      "Lemmatization -> lemmat\n",
      "Organized -> organ\n",
      "Biologically -> biolog\n",
      "economically -> econom\n",
      "cronology -> cronolog\n",
      "canopy -> canopi\n",
      "earthinessS -> earthinesss\n",
      "Lancaster Stemmer : \n",
      "put -> put\n",
      "Lemmatization -> lem\n",
      "Organized -> org\n",
      "Biologically -> biolog\n",
      "economically -> econom\n",
      "cronology -> cronolog\n",
      "canopy -> canop\n",
      "earthinessS -> earthinesss\n"
     ]
    }
   ],
   "source": [
    "from nltk import PorterStemmer,SnowballStemmer,LancasterStemmer\n",
    "\n",
    "p=PorterStemmer()\n",
    "s=SnowballStemmer('english')\n",
    "l=LancasterStemmer()\n",
    "\n",
    "word=[\"put\",\"Lemmatization\",\"Organized\",\"Biologically\",\"economically\",\"cronology\",\"canopy\"]\n",
    "# t=[\"દોડવું\"]\n",
    "print(\"Porter Stemmer : \")\n",
    "for w in word:\n",
    "    print(w,\"->\",p.stem(w))\n",
    "print(\"Snowball Stemmer : \")\n",
    "for w in word:\n",
    "    print(w,\"->\",s.stem(w))\n",
    "print(\"Lancaster Stemmer : \")\n",
    "for w in word:\n",
    "    print(w,\"->\",l.stem(w))"
   ]
  },
  {
   "cell_type": "code",
   "execution_count": null,
   "id": "3c9b729c-d4d5-4691-8d68-a92ea446a28b",
   "metadata": {},
   "outputs": [],
   "source": []
  }
 ],
 "metadata": {
  "kernelspec": {
   "display_name": "Python 3 (ipykernel)",
   "language": "python",
   "name": "python3"
  },
  "language_info": {
   "codemirror_mode": {
    "name": "ipython",
    "version": 3
   },
   "file_extension": ".py",
   "mimetype": "text/x-python",
   "name": "python",
   "nbconvert_exporter": "python",
   "pygments_lexer": "ipython3",
   "version": "3.10.2"
  }
 },
 "nbformat": 4,
 "nbformat_minor": 5
}
