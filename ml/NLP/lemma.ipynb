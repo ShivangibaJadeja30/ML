{
 "cells": [
  {
   "cell_type": "code",
   "execution_count": 1,
   "id": "1f1a72ee-0c35-4fc4-8ed8-bbfc227d9398",
   "metadata": {},
   "outputs": [
    {
     "data": {
      "application/vnd.jupyter.widget-view+json": {
       "model_id": "7b755619910441fab18a3944969e834d",
       "version_major": 2,
       "version_minor": 0
      },
      "text/plain": [
       "Downloading https://raw.githubusercontent.com/stanfordnlp/stanza-resources/main/resources_1.10.0.json:   0%|  …"
      ]
     },
     "metadata": {},
     "output_type": "display_data"
    },
    {
     "name": "stderr",
     "output_type": "stream",
     "text": [
      "2025-09-03 13:24:36 INFO: Downloaded file to C:\\Users\\atmiya\\stanza_resources\\resources.json\n",
      "2025-09-03 13:24:36 INFO: Downloading default packages for language: en (English) ...\n"
     ]
    },
    {
     "data": {
      "application/vnd.jupyter.widget-view+json": {
       "model_id": "fc73f8648c8e4967a3655386f582d63d",
       "version_major": 2,
       "version_minor": 0
      },
      "text/plain": [
       "Downloading https://huggingface.co/stanfordnlp/stanza-en/resolve/v1.10.0/models/default.zip:   0%|          | …"
      ]
     },
     "metadata": {},
     "output_type": "display_data"
    },
    {
     "name": "stderr",
     "output_type": "stream",
     "text": [
      "2025-09-03 13:24:54 INFO: Downloaded file to C:\\Users\\atmiya\\stanza_resources\\en\\default.zip\n",
      "2025-09-03 13:24:58 INFO: Finished downloading models and saved to C:\\Users\\atmiya\\stanza_resources\n"
     ]
    }
   ],
   "source": [
    "import stanza\n",
    "stanza.download(\"en\")"
   ]
  },
  {
   "cell_type": "code",
   "execution_count": 3,
   "id": "59a636a0-da76-4a24-b369-bb344b02f99a",
   "metadata": {},
   "outputs": [
    {
     "ename": "SyntaxError",
     "evalue": "invalid syntax (2436119162.py, line 1)",
     "output_type": "error",
     "traceback": [
      "\u001b[1;36m  Cell \u001b[1;32mIn[3], line 1\u001b[1;36m\u001b[0m\n\u001b[1;33m    from nltk.sentiment.vader import Sentiment IntensityAnalyzer\u001b[0m\n\u001b[1;37m                                               ^\u001b[0m\n\u001b[1;31mSyntaxError\u001b[0m\u001b[1;31m:\u001b[0m invalid syntax\n"
     ]
    }
   ],
   "source": [
    "from nltk.sentiment.vader import Sentiment IntensityAnalyzer\n",
    "analyzer SentimentIntensity Analyzer() #This Line creates an object of the class SentimentIntensityAnalyzer,\n",
    "#It also Loads the VADER sentiment Lexicon (dictionary ~7500 words, emojis, slang, emoticons, acronyms\n",
    "#with pre-defined scores.\n",
    "#Input\n",
    "sentences=[\n",
    "\"I like this product! It's amazinjg.\",\n",
    "\"This is the worst experience ever.\",\n",
    "\"The product is okay, not great but not bad either.\"\n",
    "\"Finally, a product that is perfectly adequate.\"\n",
    "]\n",
    "for text in sentences:\n",
    "scores analyzer.polarity_scores (text) #Finds how much the text is positive, negative, neutral, it also gives compund score.\n",
    "print(text,'-->', scores)"
   ]
  },
  {
   "cell_type": "code",
   "execution_count": null,
   "id": "198ad674-0e46-4494-862e-0029dbbadf26",
   "metadata": {},
   "outputs": [],
   "source": []
  }
 ],
 "metadata": {
  "kernelspec": {
   "display_name": "Python 3 (ipykernel)",
   "language": "python",
   "name": "python3"
  },
  "language_info": {
   "codemirror_mode": {
    "name": "ipython",
    "version": 3
   },
   "file_extension": ".py",
   "mimetype": "text/x-python",
   "name": "python",
   "nbconvert_exporter": "python",
   "pygments_lexer": "ipython3",
   "version": "3.10.2"
  }
 },
 "nbformat": 4,
 "nbformat_minor": 5
}
