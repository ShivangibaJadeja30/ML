{
 "cells": [
  {
   "cell_type": "code",
   "execution_count": 2,
   "id": "f17afbe5-224a-4d1b-b191-6a269a148e9d",
   "metadata": {},
   "outputs": [
    {
     "name": "stdout",
     "output_type": "stream",
     "text": [
      "[[-4.]\n",
      " [-2.]\n",
      " [ 0.]\n",
      " [ 2.]\n",
      " [ 4.]]\n",
      "[2.82842712]\n",
      "[0.]\n",
      "[1.]\n",
      "[0.]\n"
     ]
    }
   ],
   "source": [
    "#mean removal\n",
    "import numpy as np\n",
    "from sklearn import preprocessing\n",
    "data=np.array([[2],[4],[6],[8],[10]])\n",
    "\n",
    "mean=data.mean(axis=0)\n",
    "\n",
    "mean_removed=data-mean\n",
    "print(mean_removed)\n",
    "print(mean_removed.std(axis=0))\n",
    "print(mean_removed.mean(axis=0))\n",
    "data_standardize=preprocessing.scale(data)\n",
    "print(data_standardize.std(axis=0))\n",
    "print(data_standardize.mean(axis=0))"
   ]
  },
  {
   "cell_type": "code",
   "execution_count": 3,
   "id": "9ed40c50-1fd0-4e38-80e7-531bbde135f4",
   "metadata": {},
   "outputs": [
    {
     "name": "stdout",
     "output_type": "stream",
     "text": [
      "[[10]\n",
      " [20]\n",
      " [30]\n",
      " [40]\n",
      " [50]]\n",
      "==================================================\n",
      "[[0.  ]\n",
      " [0.25]\n",
      " [0.5 ]\n",
      " [0.75]\n",
      " [1.  ]]\n"
     ]
    }
   ],
   "source": [
    "#scaling\n",
    "\n",
    "import numpy as np\n",
    "from sklearn import preprocessing\n",
    "data=np.array([[10],[20],[30],[40],[50]])\n",
    "print(data)\n",
    "print('='*50)\n",
    "data_scaler=preprocessing.MinMaxScaler(feature_range=(0,1))\n",
    "scaled_data=data_scaler.fit_transform(data)\n",
    "print(scaled_data)"
   ]
  },
  {
   "cell_type": "code",
   "execution_count": 4,
   "id": "5f3e2663-ec6d-4b2a-a2e0-fdb0177c5197",
   "metadata": {},
   "outputs": [
    {
     "name": "stdout",
     "output_type": "stream",
     "text": [
      "[[ 3  4]\n",
      " [ 1  2]\n",
      " [ 5 12]]\n",
      "==================================================\n",
      "[[0.42857143 0.57142857]\n",
      " [0.33333333 0.66666667]\n",
      " [0.29411765 0.70588235]]\n",
      "==================================================\n",
      "[[0.6        0.8       ]\n",
      " [0.4472136  0.89442719]\n",
      " [0.38461538 0.92307692]]\n"
     ]
    }
   ],
   "source": [
    "#normalization\n",
    "import numpy as np\n",
    "from sklearn import preprocessing\n",
    "data=np.array([[3,4],[1,2],[5,12]])\n",
    "print(data)\n",
    "print('='*50)\n",
    "\n",
    "#l1\n",
    "normalized_l1=preprocessing.normalize(data,norm='l1')\n",
    "print(normalized_l1)\n",
    "print('='*50)\n",
    "\n",
    "#l2\n",
    "normalized_l2=preprocessing.normalize(data,norm='l2')\n",
    "print(normalized_l2)"
   ]
  },
  {
   "cell_type": "code",
   "execution_count": 6,
   "id": "8c728992-d1d2-4f07-9dd6-935c290e6cf8",
   "metadata": {},
   "outputs": [
    {
     "name": "stdout",
     "output_type": "stream",
     "text": [
      "[[ 8.9]\n",
      " [ 9.9]\n",
      " [10.9]\n",
      " [ 9.2]\n",
      " [ 6.9]\n",
      " [ 7.2]]\n",
      "==================================================\n",
      "[[1.]\n",
      " [1.]\n",
      " [1.]\n",
      " [1.]\n",
      " [0.]\n",
      " [0.]]\n"
     ]
    }
   ],
   "source": [
    "#binarization\n",
    "import numpy as np\n",
    "from sklearn import preprocessing\n",
    "data=np.array([[8.9],[9.9],[10.9],[9.2],[6.9],[7.2]])\n",
    "print(data)\n",
    "print('='*50)\n",
    "binarized_data=preprocessing.Binarizer(threshold=8).transform(data)\n",
    "print(binarized_data)"
   ]
  },
  {
   "cell_type": "code",
   "execution_count": 7,
   "id": "6c41bc18-f6d8-4ecb-a2a7-d3564cdc5b63",
   "metadata": {},
   "outputs": [
    {
     "name": "stdout",
     "output_type": "stream",
     "text": [
      "['mango', 'banana', 'apple', 'mango', 'orange', 'banana']\n",
      "[2 1 0 2 3 1]\n",
      "['mango', 'banana']\n",
      "[2 1]\n",
      "['mango' 'banana']\n"
     ]
    }
   ],
   "source": [
    "#label encoding\n",
    "from sklearn import preprocessing\n",
    "\n",
    "labels=['mango','banana','apple','mango','orange','banana']\n",
    "print(labels)\n",
    "\n",
    "label_encoder=preprocessing.LabelEncoder()\n",
    "op=label_encoder.fit_transform(labels)\n",
    "print(op)\n",
    "\n",
    "test_labels=['mango','banana']\n",
    "print(test_labels)\n",
    "print(label_encoder.transform(test_labels))\n",
    "test_code=[2,1]\n",
    "print(label_encoder.inverse_transform(test_code))"
   ]
  },
  {
   "cell_type": "code",
   "execution_count": 1,
   "id": "4d69799f-1440-4acc-a39c-0e14a6735558",
   "metadata": {},
   "outputs": [
    {
     "name": "stdout",
     "output_type": "stream",
     "text": [
      "[47500.]\n"
     ]
    }
   ],
   "source": [
    "#desition tree\n",
    "import numpy as np\n",
    "from sklearn.tree import DecisionTreeRegressor\n",
    "\n",
    "x=np.array([[1],[2],[3],[4],[5]])\n",
    "y=np.array([[30000],[35000],[40000],[45000],[50000]])\n",
    "\n",
    "model=DecisionTreeRegressor(max_depth=2)\n",
    "model.fit(x,y)\n",
    "\n",
    "print(model.predict([[6]]))"
   ]
  },
  {
   "cell_type": "code",
   "execution_count": 4,
   "id": "18a6f982-5a00-4a9a-b8ac-68702642ee23",
   "metadata": {},
   "outputs": [
    {
     "name": "stdout",
     "output_type": "stream",
     "text": [
      "[40741.52675367]\n"
     ]
    },
    {
     "name": "stderr",
     "output_type": "stream",
     "text": [
      "C:\\Users\\atmiya\\AppData\\Local\\Programs\\Python\\Python310\\lib\\site-packages\\sklearn\\utils\\validation.py:1408: DataConversionWarning: A column-vector y was passed when a 1d array was expected. Please change the shape of y to (n_samples, ), for example using ravel().\n",
      "  y = column_or_1d(y, warn=True)\n"
     ]
    }
   ],
   "source": [
    "#support vector machine\n",
    "import numpy as np\n",
    "from sklearn.svm import SVR\n",
    "\n",
    "x=np.array([[1],[2],[3],[4],[5]])\n",
    "y=np.array([[30000],[35000],[40000],[45000],[50000]])\n",
    "\n",
    "model=SVR(kernel='rbf',C=1000,epsilon=500)\n",
    "\n",
    "model.fit(x,y)\n",
    "print(model.predict([[6]]))"
   ]
  },
  {
   "cell_type": "code",
   "execution_count": 6,
   "id": "c812111f-c168-4304-b0c7-1184ef34449e",
   "metadata": {},
   "outputs": [
    {
     "name": "stdout",
     "output_type": "stream",
     "text": [
      "Marks:30->Fail\n",
      "Marks:48->Pass\n",
      "Marks:39->Fail\n"
     ]
    },
    {
     "name": "stderr",
     "output_type": "stream",
     "text": [
      "C:\\Users\\atmiya\\AppData\\Local\\Programs\\Python\\Python310\\lib\\site-packages\\sklearn\\utils\\validation.py:2739: UserWarning: X does not have valid feature names, but LogisticRegression was fitted with feature names\n",
      "  warnings.warn(\n"
     ]
    }
   ],
   "source": [
    "import numpy as np\n",
    "import pandas as pd\n",
    "from sklearn.linear_model import LogisticRegression\n",
    "from sklearn.model_selection import train_test_split\n",
    "\n",
    "data={\n",
    "    'Marks':[25,35,40,55,68,75,85],\n",
    "    'Result':['Fail','Fail','Pass','Pass','Pass','Pass','Pass']\n",
    "}\n",
    "df=pd.DataFrame(data)\n",
    "\n",
    "df['Result']=df['Result'].map({'Fail':0,'Pass':1})\n",
    "x=df[['Marks']]\n",
    "y=df['Result']\n",
    "\n",
    "x_train,x_test,y_train,y_test=train_test_split(x,y,test_size=0.3,random_state=1)\n",
    "\n",
    "model=LogisticRegression()\n",
    "model.fit(x_train,y_train)\n",
    "\n",
    "y_pred=model.predict(x_test)\n",
    "\n",
    "new_marks=np.array([[30],[48],[39]])\n",
    "prediction=model.predict(new_marks)\n",
    "for m,p in zip(new_marks,prediction):\n",
    "    print(f\"Marks:{m[0]}->{'Pass' if p==1 else 'Fail'}\")\n"
   ]
  },
  {
   "cell_type": "code",
   "execution_count": 9,
   "id": "b3eeecf3-fb2e-4f70-9cf2-c5940de0f89b",
   "metadata": {},
   "outputs": [
    {
     "name": "stdout",
     "output_type": "stream",
     "text": [
      "Email: 'free offer lottery just for you' -> Spam\n",
      "Email: 'hi, are we still lowest price for lottery today?' -> Spam\n"
     ]
    }
   ],
   "source": [
    "#native bayes classifier\n",
    "import pandas as pd\n",
    "from sklearn.model_selection import train_test_split\n",
    "from sklearn.feature_extraction.text import CountVectorizer\n",
    "from sklearn.naive_bayes import MultinomialNB\n",
    "\n",
    "data = {\n",
    "    'Message': [\n",
    "        \"win lottery now\",\n",
    "        \"lowest price offer\",\n",
    "        \"how are you?\",\n",
    "        \"lets meet tomorrow\",\n",
    "        \"congratulations,you won a lottery\",\n",
    "        \"reminder for the meeting\"\n",
    "    ],\n",
    "    'Label': ['Spam', 'Spam', 'Not Spam', 'Not Spam', 'Spam', 'Not Spam']\n",
    "}\n",
    "\n",
    "df = pd.DataFrame(data)\n",
    "df['Label'] = df['Label'].map({'Not Spam': 0, 'Spam': 1})\n",
    "\n",
    "x = df['Message']\n",
    "y = df['Label']\n",
    "\n",
    "vectorizer = CountVectorizer()\n",
    "x_feature = vectorizer.fit_transform(x)\n",
    "\n",
    "x_train, x_test, y_train, y_test = train_test_split(x_feature, y, test_size=0.3, random_state=1)\n",
    "\n",
    "model = MultinomialNB()\n",
    "model.fit(x_train, y_train)\n",
    "\n",
    "y_pred = model.predict(x_test)\n",
    "\n",
    "new_emails = [\"free offer lottery just for you\", \"hi, are we still lowest price for lottery today?\"]\n",
    "new_feature = vectorizer.transform(new_emails)\n",
    "predictions = model.predict(new_feature)\n",
    "\n",
    "for email, p in zip(new_emails, predictions):\n",
    "    print(f\"Email: '{email}' -> {'Spam' if p == 1 else 'Not Spam'}\")\n",
    "\n"
   ]
  },
  {
   "cell_type": "code",
   "execution_count": 8,
   "id": "48edc7b4-d599-4c71-8140-22798baf0fd3",
   "metadata": {},
   "outputs": [
    {
     "name": "stdout",
     "output_type": "stream",
     "text": [
      "Email: 'free offer lottery just for you' -> Spam\n",
      "Email: 'hi, are we still lowest price for lottery today?' -> Spam\n"
     ]
    }
   ],
   "source": [
    "import pandas as pd\n",
    "from sklearn.model_selection import train_test_split\n",
    "from sklearn.feature_extraction.text import CountVectorizer\n",
    "from sklearn.naive_bayes import MultinomialNB\n",
    "\n",
    "data = {\n",
    "    'Message': [\n",
    "        \"win lottery now\",\n",
    "        \"lowest price offer\",\n",
    "        \"how are you?\",\n",
    "        \"lets meet tomorrow\",\n",
    "        \"congratulations,you won a lottery\",\n",
    "        \"reminder for the meeting\"\n",
    "    ],\n",
    "    'Label': ['Spam', 'Spam', 'Not Spam', 'Not Spam', 'Spam', 'Not Spam']\n",
    "}\n",
    "\n",
    "df = pd.DataFrame(data)\n",
    "df['Label'] = df['Label'].map({'Not Spam': 0, 'Spam': 1})\n",
    "\n",
    "x = df['Message']\n",
    "y = df['Label']\n",
    "\n",
    "vectorizer = CountVectorizer()\n",
    "x_feature = vectorizer.fit_transform(x)\n",
    "\n",
    "x_train, x_test, y_train, y_test = train_test_split(x_feature, y, test_size=0.3, random_state=1)\n",
    "\n",
    "model = MultinomialNB()\n",
    "model.fit(x_train, y_train)\n",
    "\n",
    "y_pred = model.predict(x_test)\n",
    "\n",
    "new_emails = [\"free offer lottery just for you\", \"hi, are we still lowest price for lottery today?\"]\n",
    "new_feature = vectorizer.transform(new_emails)\n",
    "predictions = model.predict(new_feature)\n",
    "\n",
    "for email, p in zip(new_emails, predictions):\n",
    "    print(f\"Email: '{email}' -> {'Spam' if p == 1 else 'Not Spam'}\")\n"
   ]
  },
  {
   "cell_type": "code",
   "execution_count": null,
   "id": "2be6655b-de28-48f2-9468-a600e1a167bf",
   "metadata": {},
   "outputs": [],
   "source": []
  }
 ],
 "metadata": {
  "kernelspec": {
   "display_name": "Python 3 (ipykernel)",
   "language": "python",
   "name": "python3"
  },
  "language_info": {
   "codemirror_mode": {
    "name": "ipython",
    "version": 3
   },
   "file_extension": ".py",
   "mimetype": "text/x-python",
   "name": "python",
   "nbconvert_exporter": "python",
   "pygments_lexer": "ipython3",
   "version": "3.10.2"
  }
 },
 "nbformat": 4,
 "nbformat_minor": 5
}
