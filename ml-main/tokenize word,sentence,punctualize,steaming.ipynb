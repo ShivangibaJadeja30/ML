{
 "cells": [
  {
   "cell_type": "code",
   "execution_count": 1,
   "id": "36f5811a-3cb8-4d24-abdc-59f20b0c63c9",
   "metadata": {},
   "outputs": [
    {
     "name": "stderr",
     "output_type": "stream",
     "text": [
      "[nltk_data] Downloading package punkt_tab to\n",
      "[nltk_data]     C:\\Users\\jagde\\AppData\\Roaming\\nltk_data...\n",
      "[nltk_data]   Unzipping tokenizers\\punkt_tab.zip.\n"
     ]
    },
    {
     "data": {
      "text/plain": [
       "True"
      ]
     },
     "execution_count": 1,
     "metadata": {},
     "output_type": "execute_result"
    }
   ],
   "source": [
    "#PS-4, NLP\n",
    "#pip install NEPA\n",
    "import nltk\n",
    "nltk.download('punkt_tab') #Need to be done once"
   ]
  },
  {
   "cell_type": "code",
   "execution_count": 2,
   "id": "12e75a36-1005-45aa-b12e-0b2a76673f1a",
   "metadata": {},
   "outputs": [
    {
     "name": "stdout",
     "output_type": "stream",
     "text": [
      "Sentence Tokenizers ['I love NLP.', \"It's fun, isn't it?\"]\n"
     ]
    }
   ],
   "source": [
    "#Applying the sentence tokenisation on the text.\n",
    "from nltk.tokenize import sent_tokenize\n",
    "#Input text\n",
    "text=\"I love NLP. It's fun, isn't it?\"\n",
    "#Sentence Tokenize\n",
    "tokenised_sentence=sent_tokenize(text)\n",
    "print('Sentence Tokenizers', tokenised_sentence)"
   ]
  },
  {
   "cell_type": "code",
   "execution_count": 3,
   "id": "f75ec55d-604c-4c59-947b-ad8955a0bc7d",
   "metadata": {},
   "outputs": [
    {
     "name": "stdout",
     "output_type": "stream",
     "text": [
      "word Tokenizers ['I', 'love', 'NLP', '.', 'It', \"'s\", 'fun', ',', 'is', \"n't\", 'it', '?']\n"
     ]
    }
   ],
   "source": [
    "#Applying the word tokenisation on the text.\n",
    "from nltk.tokenize import word_tokenize\n",
    "#Input text\n",
    "text=\"I love NLP. It's fun, isn't it?\"\n",
    "#word Tokenize\n",
    "tokenised_word=word_tokenize(text)\n",
    "print('word Tokenizers', tokenised_word)"
   ]
  },
  {
   "cell_type": "code",
   "execution_count": 5,
   "id": "4bdb77c9-25cf-4ed4-859a-6fcad9bda5c0",
   "metadata": {},
   "outputs": [
    {
     "name": "stdout",
     "output_type": "stream",
     "text": [
      "Word Punctuation Tokenizer: ['I', 'love', 'NLP', '.', 'It', \"'\", 's', 'fun', ',', 'isn', \"'\", 't', 'it', '?']\n"
     ]
    }
   ],
   "source": [
    "#applying the wond punctuation tokentsation on the text.\n",
    "from nltk.tokenize import wordpunct_tokenize\n",
    "#Input text\n",
    "text=\"I love NLP. It's fun, isn't it?\"\n",
    "#word Punctuation Tokenize\n",
    "tokenised_punct=wordpunct_tokenize(text)\n",
    "print('Word Punctuation Tokenizer:',tokenised_punct)"
   ]
  },
  {
   "cell_type": "code",
   "execution_count": 11,
   "id": "ed872270-12a2-4b0a-916f-bba2c2cadb71",
   "metadata": {},
   "outputs": [
    {
     "name": "stdout",
     "output_type": "stream",
     "text": [
      "Porter Stemmer\n",
      "student --> student\n",
      "playing --> play\n",
      "played --> play\n",
      "studies --> studi\n",
      "studying --> studi\n",
      "Snowball Stemmer\n",
      "student --> student\n",
      "playing --> play\n",
      "played --> play\n",
      "studies --> studi\n",
      "studying --> studi\n",
      "Lancaster Stemmer\n",
      "student --> stud\n",
      "playing --> play\n",
      "played --> play\n",
      "studies --> study\n",
      "studying --> study\n"
     ]
    }
   ],
   "source": [
    "\n",
    "#Stemming\n",
    "#frow nitk.stem import PorterStemmer, Snowbal LStemmer, LancasterStemmer\n",
    "from nltk.stem import *\n",
    "#Create Stemmer object\n",
    "porter=PorterStemmer()\n",
    "snowball=SnowballStemmer(\"english\")\n",
    "lancaster=LancasterStemmer()\n",
    "words=[\"student\", \"playing\",\"played\", \"studies\", \"studying\"]\n",
    "#words=[\"student playing played studies studying\"]\n",
    "print('Porter Stemmer')\n",
    "for w in words:\n",
    "      print(w,'-->',porter.stem(w))\n",
    "print('Snowball Stemmer')\n",
    "for w in words:\n",
    "   print(w,'-->', snowball.stem(w))\n",
    "print('Lancaster Stemmer')\n",
    "for w in words:\n",
    "    print(w,'-->', lancaster.stem(w))"
   ]
  },
  {
   "cell_type": "code",
   "execution_count": null,
   "id": "d9dfc8d2-ebd9-424a-bde2-aca4dcd4c2d2",
   "metadata": {},
   "outputs": [],
   "source": []
  }
 ],
 "metadata": {
  "kernelspec": {
   "display_name": "Python 3 (ipykernel)",
   "language": "python",
   "name": "python3"
  },
  "language_info": {
   "codemirror_mode": {
    "name": "ipython",
    "version": 3
   },
   "file_extension": ".py",
   "mimetype": "text/x-python",
   "name": "python",
   "nbconvert_exporter": "python",
   "pygments_lexer": "ipython3",
   "version": "3.13.3"
  }
 },
 "nbformat": 4,
 "nbformat_minor": 5
}
